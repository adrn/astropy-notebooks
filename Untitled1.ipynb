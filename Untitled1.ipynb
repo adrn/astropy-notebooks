{
 "cells": [
  {
   "cell_type": "code",
   "execution_count": null,
   "metadata": {},
   "outputs": [],
   "source": [
    "# Third-party\n",
    "import astropy.coordinates as coord\n",
    "import astropy.units as u\n",
    "import numpy as np"
   ]
  },
  {
   "cell_type": "code",
   "execution_count": null,
   "metadata": {
    "scrolled": true
   },
   "outputs": [],
   "source": [
    "import astropy\n",
    "astropy.__version__"
   ]
  },
  {
   "cell_type": "code",
   "execution_count": null,
   "metadata": {},
   "outputs": [],
   "source": [
    "class MyFrame(coord.BaseCoordinateFrame):\n",
    "    default_representation = coord.CartesianRepresentation\n",
    "    my_attr = coord.QuantityAttribute(default=0, unit=u.m)\n",
    "\n",
    "class MySpecialFrame(MyFrame):\n",
    "    def __init__(self, *args, **kwargs):\n",
    "        _rep_kwarg = kwargs.get('representation', None)\n",
    "        super().__init__(*args, **kwargs)\n",
    "        if not _rep_kwarg:\n",
    "            self.representation_type = self.default_representation\n",
    "            self._data = self.data.represent_as(self.representation_type)"
   ]
  },
  {
   "cell_type": "code",
   "execution_count": null,
   "metadata": {},
   "outputs": [],
   "source": [
    "rep1 = coord.UnitSphericalRepresentation([0., 1]*u.deg, [2., 3.]*u.deg)\n",
    "msf3 = MySpecialFrame(rep1, my_attr=1.*u.km,\n",
    "                      representation_type='unitspherical')"
   ]
  },
  {
   "cell_type": "code",
   "execution_count": null,
   "metadata": {},
   "outputs": [],
   "source": [
    "msf3.representation_type"
   ]
  },
  {
   "cell_type": "code",
   "execution_count": null,
   "metadata": {},
   "outputs": [],
   "source": [
    "msf3._data"
   ]
  },
  {
   "cell_type": "code",
   "execution_count": null,
   "metadata": {},
   "outputs": [],
   "source": [
    "assert msf3.data is rep1"
   ]
  },
  {
   "cell_type": "code",
   "execution_count": null,
   "metadata": {
    "collapsed": true
   },
   "outputs": [],
   "source": []
  }
 ],
 "metadata": {
  "anaconda-cloud": {},
  "kernelspec": {
   "display_name": "Python [conda env:astropy-derp]",
   "language": "python",
   "name": "conda-env-astropy-derp-py"
  },
  "language_info": {
   "codemirror_mode": {
    "name": "ipython",
    "version": 3
   },
   "file_extension": ".py",
   "mimetype": "text/x-python",
   "name": "python",
   "nbconvert_exporter": "python",
   "pygments_lexer": "ipython3",
   "version": "3.6.7"
  }
 },
 "nbformat": 4,
 "nbformat_minor": 2
}