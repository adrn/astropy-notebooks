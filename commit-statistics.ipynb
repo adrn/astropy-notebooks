{
 "cells": [
  {
   "cell_type": "code",
   "execution_count": null,
   "metadata": {
    "collapsed": true
   },
   "outputs": [],
   "source": [
    "import datetime\n",
    "\n",
    "import pandas as pd\n",
    "from astropy.table import Table\n",
    "from astropy.time import Time\n",
    "import numpy as np\n",
    "import matplotlib.pyplot as plt\n",
    "plt.style.use('apw-notebook')\n",
    "%matplotlib inline\n",
    "\n",
    "from scipy.stats import binned_statistic\n",
    "\n",
    "import calendar\n",
    "month_map = dict((v,k) for k,v in enumerate(calendar.month_abbr))"
   ]
  },
  {
   "cell_type": "code",
   "execution_count": null,
   "metadata": {
    "collapsed": true
   },
   "outputs": [],
   "source": [
    "df = pd.read_csv('astropy_commits.csv')"
   ]
  },
  {
   "cell_type": "code",
   "execution_count": null,
   "metadata": {
    "scrolled": true
   },
   "outputs": [],
   "source": [
    "df['name'].value_counts()[:16]"
   ]
  },
  {
   "cell_type": "code",
   "execution_count": null,
   "metadata": {},
   "outputs": [],
   "source": [
    "rows = []\n",
    "for index, row in df.iterrows():\n",
    "    ss = dict()\n",
    "    \n",
    "    # parse date\n",
    "    month_name, day, hms, year, *_ = row['date'].split()\n",
    "    hms = list(map(int, hms.split(':')))\n",
    "    ss['hour'] = np.sum(np.array([1., 1/60., 1/3600]) * np.array(hms))\n",
    "    ss['time'] = Time(datetime(int(year), month_map[month_name], int(day), hms[0], hms[1], hms[2]))\n",
    "    \n",
    "    rows.append(ss)\n",
    "    \n",
    "more_data = Table(rows)\n",
    "more_data['time'] = Time(more_data['time'])\n",
    "more_data['month'] = [x.datetime.month for x in more_data['time']]"
   ]
  },
  {
   "cell_type": "code",
   "execution_count": null,
   "metadata": {},
   "outputs": [],
   "source": [
    "df.columns"
   ]
  },
  {
   "cell_type": "code",
   "execution_count": null,
   "metadata": {},
   "outputs": [],
   "source": [
    "np.sum((np.cumsum(df['name'].value_counts()) / len(df)) < 0.8)"
   ]
  },
  {
   "cell_type": "code",
   "execution_count": null,
   "metadata": {},
   "outputs": [],
   "source": [
    "fig = plt.figure(figsize=(8,6))\n",
    "\n",
    "plt.plot(np.array((np.cumsum(df['name'].value_counts()) / len(df))), \n",
    "         marker='', linestyle='-', lw=2)\n",
    "\n",
    "plt.xscale('log')\n",
    "plt.xlabel('number of contributors')\n",
    "plt.ylabel('cum. fraction of commits')\n",
    "\n",
    "fig.set_facecolor('w')"
   ]
  },
  {
   "cell_type": "code",
   "execution_count": null,
   "metadata": {
    "collapsed": true
   },
   "outputs": [],
   "source": [
    "edges = [Time(datetime.datetime(2011+i, 1, 1)) for i in range(8)]"
   ]
  },
  {
   "cell_type": "code",
   "execution_count": null,
   "metadata": {
    "scrolled": false
   },
   "outputs": [],
   "source": [
    "fig = plt.figure(figsize=(8,6))\n",
    "\n",
    "frac_85 = []\n",
    "frac_50 = []\n",
    "date_range = []\n",
    "for l, r in zip(edges[:-1], edges[1:]):\n",
    "    idx = (more_data['time'] > l) & (more_data['time'] < r)\n",
    "    \n",
    "    label = '{0}\u2013{1}'.format(l.datetime.year, r.datetime.year)\n",
    "    \n",
    "    sub_df = df[idx]\n",
    "    plt.plot(np.array((np.cumsum(sub_df['name'].value_counts()) / len(sub_df))), \n",
    "             marker='', linestyle='-', lw=2, label=label)\n",
    "    \n",
    "    frac_50.append(np.sum((np.cumsum(sub_df['name'].value_counts()) / len(sub_df)) <= 0.50))\n",
    "    frac_85.append(np.sum((np.cumsum(sub_df['name'].value_counts()) / len(sub_df)) <= 0.85))\n",
    "    date_range.append(str(l.datetime.year))\n",
    "\n",
    "plt.legend(loc='lower right', fontsize=18)\n",
    "plt.xscale('log')\n",
    "plt.xlabel('number of contributors')\n",
    "plt.ylabel('cum. fraction of commits')\n",
    "\n",
    "fig.set_facecolor('w')"
   ]
  },
  {
   "cell_type": "code",
   "execution_count": null,
   "metadata": {},
   "outputs": [],
   "source": [
    "fig,ax = plt.subplots(1,1,figsize=(8,6))\n",
    "\n",
    "ax.plot(frac_50, marker='o', label=r'$\\leq$50% commits')\n",
    "ax.plot(frac_85, marker='o', label=r'$\\leq$85% commits')\n",
    "\n",
    "ax.set_xticks(list(range(len(date_range))))\n",
    "ax.set_xticklabels(date_range);\n",
    "ax.set_yticks(list(range(20+1)))\n",
    "ax.set_ylim(0, 20)\n",
    "\n",
    "ax.xaxis.set_tick_params(top='on')\n",
    "ax.yaxis.set_tick_params(right='on')\n",
    "\n",
    "ax.legend(loc='upper left', fontsize=20)\n",
    "fig.set_facecolor('w')"
   ]
  },
  {
   "cell_type": "code",
   "execution_count": null,
   "metadata": {
    "collapsed": true
   },
   "outputs": [],
   "source": []
  }
 ],
 "metadata": {
  "kernelspec": {
   "display_name": "Python [default]",
   "language": "python",
   "name": "python3"
  },
  "language_info": {
   "codemirror_mode": {
    "name": "ipython",
    "version": 3
   },
   "file_extension": ".py",
   "mimetype": "text/x-python",
   "name": "python",
   "nbconvert_exporter": "python",
   "pygments_lexer": "ipython3",
   "version": "3.5.2"
  }
 },
 "nbformat": 4,
 "nbformat_minor": 2
}