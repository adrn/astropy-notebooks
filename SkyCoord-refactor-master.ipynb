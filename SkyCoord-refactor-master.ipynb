{
 "cells": [
  {
   "cell_type": "code",
   "execution_count": null,
   "metadata": {},
   "outputs": [],
   "source": [
    "# Third-party\n",
    "import astropy.coordinates as coord\n",
    "import astropy.units as u\n",
    "import matplotlib as mpl\n",
    "import matplotlib.pyplot as plt\n",
    "import numpy as np\n",
    "%matplotlib inline\n",
    "%load_ext line_profiler"
   ]
  },
  {
   "cell_type": "code",
   "execution_count": null,
   "metadata": {},
   "outputs": [],
   "source": [
    "rep = coord.SphericalRepresentation(160*u.deg, 10*u.deg, 10*u.pc)\n",
    "-rep"
   ]
  },
  {
   "cell_type": "code",
   "execution_count": null,
   "metadata": {},
   "outputs": [],
   "source": [
    "+rep"
   ]
  },
  {
   "cell_type": "code",
   "execution_count": null,
   "metadata": {},
   "outputs": [],
   "source": [
    "-rep"
   ]
  },
  {
   "cell_type": "markdown",
   "metadata": {},
   "source": [
    "---"
   ]
  },
  {
   "cell_type": "code",
   "execution_count": null,
   "metadata": {},
   "outputs": [],
   "source": [
    "rep = coord.CartesianRepresentation([1., 2, 3] * u.kpc)\n",
    "dif = coord.CartesianDifferential([1, 2, 3.] * u.km/u.s)\n",
    "rep_wd = rep.with_differentials(dif)\n",
    "\n",
    "c = coord.ICRS(rep)\n",
    "c_wd = coord.ICRS(rep_wd)\n",
    "\n",
    "empty_fr = coord.ICRS()\n",
    "\n",
    "RA = 10*u.deg\n",
    "DEC = 10*u.deg\n",
    "\n",
    "RA_arr = np.random.uniform(0, 100, size=100000) * u.deg\n",
    "DEC_arr = np.random.uniform(-89, 89, size=100000) * u.deg\n",
    "\n",
    "PMRA = 1 * u.mas/u.yr\n",
    "PMDEC = 1 * u.mas/u.yr\n",
    "\n",
    "PMRA_arr = np.random.uniform(0, 100, size=100000) * u.mas/u.yr\n",
    "PMDEC_arr = np.random.uniform(0, 100, size=100000) * u.mas/u.yr\n",
    "\n",
    "scalar_args = (RA, DEC)\n",
    "array_args = (RA_arr, DEC_arr)\n",
    "\n",
    "scalar_kw = {'ra': RA, 'dec': DEC}\n",
    "scalar_diff_kw = {'ra': RA, 'dec': DEC, 'pm_ra_cosdec': PMRA, 'pm_dec': PMDEC}\n",
    "\n",
    "array_kw = {'ra': RA_arr, 'dec': DEC_arr}\n",
    "array_diff_kw = {'ra': RA_arr, 'dec': DEC_arr, 'pm_ra_cosdec': PMRA_arr, 'pm_dec': PMDEC_arr}"
   ]
  },
  {
   "cell_type": "markdown",
   "metadata": {},
   "source": [
    "---\n",
    "\n",
    "SkyCoord from frame, with and without differentials"
   ]
  },
  {
   "cell_type": "code",
   "execution_count": null,
   "metadata": {},
   "outputs": [],
   "source": [
    "%timeit coord.SkyCoord(c, copy=False)\n",
    "%timeit coord.SkyCoord(c, copy=True)\n",
    "\n",
    "%timeit coord.SkyCoord(c_wd, copy=False)\n",
    "%timeit coord.SkyCoord(c_wd, copy=True)"
   ]
  },
  {
   "cell_type": "markdown",
   "metadata": {},
   "source": [
    "Representation without differential:"
   ]
  },
  {
   "cell_type": "code",
   "execution_count": null,
   "metadata": {},
   "outputs": [],
   "source": [
    "%timeit coord.ICRS(rep, copy=False)\n",
    "%timeit coord.ICRS(rep, copy=True)\n",
    "\n",
    "%timeit coord.SkyCoord(rep, copy=False)\n",
    "%timeit coord.SkyCoord(rep, copy=True)\n",
    "\n",
    "# %timeit coord.SkyCoord.from_representation(rep, frame=empty_fr, copy=False)\n",
    "# %timeit coord.SkyCoord.from_representation(rep, frame=empty_fr, copy=True)"
   ]
  },
  {
   "cell_type": "markdown",
   "metadata": {},
   "source": [
    "Representation with differential"
   ]
  },
  {
   "cell_type": "code",
   "execution_count": null,
   "metadata": {},
   "outputs": [],
   "source": [
    "%timeit coord.ICRS(rep_wd, copy=False)\n",
    "%timeit coord.ICRS(rep_wd, copy=True)\n",
    "\n",
    "%timeit coord.SkyCoord(rep_wd, copy=False)\n",
    "%timeit coord.SkyCoord(rep_wd, copy=True)\n",
    "\n",
    "# %timeit coord.SkyCoord.from_representation(rep_wd, frame=empty_fr, copy=False)\n",
    "# %timeit coord.SkyCoord.from_representation(rep_wd, frame=empty_fr, copy=True)"
   ]
  },
  {
   "cell_type": "markdown",
   "metadata": {},
   "source": [
    "Keyword components:"
   ]
  },
  {
   "cell_type": "code",
   "execution_count": null,
   "metadata": {},
   "outputs": [],
   "source": [
    "%timeit coord.SkyCoord(**scalar_kw)\n",
    "%timeit coord.SkyCoord(**scalar_kw, frame='icrs')\n",
    "%timeit coord.SkyCoord(**scalar_kw, frame='fk5', equinox='J2010')"
   ]
  },
  {
   "cell_type": "code",
   "execution_count": null,
   "metadata": {},
   "outputs": [],
   "source": [
    "%timeit coord.SkyCoord(**array_kw)\n",
    "%timeit coord.SkyCoord(**array_kw, frame='icrs')\n",
    "%timeit coord.SkyCoord(**array_kw, frame='fk5', equinox='J2010')"
   ]
  },
  {
   "cell_type": "code",
   "execution_count": null,
   "metadata": {},
   "outputs": [],
   "source": [
    "%timeit coord.SkyCoord(**scalar_diff_kw)\n",
    "%timeit coord.SkyCoord(**scalar_diff_kw, frame='icrs')\n",
    "%timeit coord.SkyCoord(**scalar_diff_kw, frame='fk5', equinox='J2010')"
   ]
  },
  {
   "cell_type": "code",
   "execution_count": null,
   "metadata": {},
   "outputs": [],
   "source": [
    "%timeit coord.SkyCoord(**array_diff_kw)\n",
    "%timeit coord.SkyCoord(**array_diff_kw, frame='icrs')\n",
    "%timeit coord.SkyCoord(**array_diff_kw, frame='fk5', equinox='J2010')"
   ]
  },
  {
   "cell_type": "markdown",
   "metadata": {},
   "source": [
    "Positional components:"
   ]
  },
  {
   "cell_type": "code",
   "execution_count": null,
   "metadata": {},
   "outputs": [],
   "source": [
    "%timeit coord.SkyCoord(*scalar_args)\n",
    "%timeit coord.SkyCoord(*scalar_args, frame='icrs')\n",
    "%timeit coord.SkyCoord(*scalar_args, frame='fk5', equinox='J2010')"
   ]
  },
  {
   "cell_type": "code",
   "execution_count": null,
   "metadata": {},
   "outputs": [],
   "source": [
    "%timeit coord.SkyCoord(*array_args)\n",
    "%timeit coord.SkyCoord(*array_args, frame='icrs')\n",
    "%timeit coord.SkyCoord(*array_args, frame='fk5', equinox='J2010')"
   ]
  },
  {
   "cell_type": "code",
   "execution_count": null,
   "metadata": {},
   "outputs": [],
   "source": []
  }
 ],
 "metadata": {
  "kernelspec": {
   "display_name": "Python [default]",
   "language": "python",
   "name": "python3"
  },
  "language_info": {
   "codemirror_mode": {
    "name": "ipython",
    "version": 3
   },
   "file_extension": ".py",
   "mimetype": "text/x-python",
   "name": "python",
   "nbconvert_exporter": "python",
   "pygments_lexer": "ipython3",
   "version": "3.6.4"
  }
 },
 "nbformat": 4,
 "nbformat_minor": 2
}