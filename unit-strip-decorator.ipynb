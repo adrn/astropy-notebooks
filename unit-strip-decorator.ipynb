{
 "cells": [
  {
   "cell_type": "code",
   "execution_count": null,
   "metadata": {
    "collapsed": true
   },
   "outputs": [],
   "source": [
    "# Third-party\n",
    "import astropy.units as u\n",
    "import matplotlib as mpl\n",
    "import matplotlib.pyplot as plt\n",
    "import numpy as np\n",
    "%matplotlib inline"
   ]
  },
  {
   "cell_type": "code",
   "execution_count": null,
   "metadata": {
    "collapsed": true
   },
   "outputs": [],
   "source": [
    "import inspect\n",
    "from astropy.utils.decorators import wraps\n",
    "from astropy.units.decorators import _validate_arg_value\n",
    "from astropy.units import add_enabled_units, add_enabled_equivalencies\n",
    "from astropy.tests.helper import quantity_allclose\n",
    "import pytest"
   ]
  },
  {
   "cell_type": "code",
   "execution_count": null,
   "metadata": {},
   "outputs": [],
   "source": [
    "class StripInputUnits:\n",
    "\n",
    "    @classmethod\n",
    "    def as_decorator(cls, func=None, **kwargs):\n",
    "        self = cls(**kwargs)\n",
    "        if func is not None and not kwargs:\n",
    "            return self(func)\n",
    "        else:\n",
    "            return self\n",
    "\n",
    "    def __init__(self, func=None, **kwargs):\n",
    "        self.equivalencies = kwargs.pop('equivalencies', [])\n",
    "        self.decorator_kwargs = kwargs\n",
    "\n",
    "    def __call__(self, wrapped_function):\n",
    "\n",
    "        # Extract the function signature for the function we are wrapping.\n",
    "        wrapped_signature = inspect.signature(wrapped_function)\n",
    "\n",
    "        # Define a new function to return in place of the wrapped one\n",
    "        @wraps(wrapped_function)\n",
    "        def wrapper(*func_args, **func_kwargs):\n",
    "            # Bind the arguments to our new function to the signature of the original.\n",
    "            bound_args = wrapped_signature.bind(*func_args, **func_kwargs)\n",
    "            \n",
    "            new_kwargs = func_kwargs.copy()\n",
    "            \n",
    "            # Iterate through the parameters of the original signature\n",
    "            for param in wrapped_signature.parameters.values():\n",
    "                # We do not support variable arguments (*args, **kwargs)\n",
    "                if param.kind in (inspect.Parameter.VAR_KEYWORD,\n",
    "                                  inspect.Parameter.VAR_POSITIONAL):\n",
    "                    continue\n",
    "\n",
    "                # Catch the (never triggered) case where bind relied on a default value.\n",
    "                if param.name not in bound_args.arguments and param.default is not param.empty:\n",
    "                    bound_args.arguments[param.name] = param.default\n",
    "\n",
    "                # Get the value of this parameter (argument to new function)\n",
    "                arg = bound_args.arguments[param.name]\n",
    "                new_kwargs[param.name] = arg\n",
    "\n",
    "                # Get target unit or physical type, either from decorator kwargs\n",
    "                #   or annotations\n",
    "                if param.name in self.decorator_kwargs:\n",
    "                    target_unit = self.decorator_kwargs[param.name]\n",
    "                else:\n",
    "                    target_unit = param.annotation\n",
    "\n",
    "                # If the target_unit is empty, then no target units or physical\n",
    "                #   types were specified so we can continue to the next arg\n",
    "                if target_unit is inspect.Parameter.empty:\n",
    "                    continue\n",
    "\n",
    "                # If the argument value is None, and the default value is None,\n",
    "                #   pass through the None even if there is a target unit\n",
    "                if arg is None and param.default is None:\n",
    "                    continue\n",
    "\n",
    "                target_unit = u.Unit(target_unit)\n",
    "\n",
    "                # Now we loop over the allowed units/physical types and validate\n",
    "                #   the value of the argument:\n",
    "                _validate_arg_value(param.name, wrapped_function.__name__,\n",
    "                                    arg, [target_unit], self.equivalencies)\n",
    "                \n",
    "                new_kwargs[param.name] = arg.to(target_unit).value\n",
    "\n",
    "            # Call the original function with any equivalencies in force.\n",
    "            with add_enabled_equivalencies(self.equivalencies):                    \n",
    "                return_ = wrapped_function(**new_kwargs)\n",
    "            \n",
    "            if wrapped_signature.return_annotation is not inspect.Signature.empty:\n",
    "                return return_ * wrapped_signature.return_annotation\n",
    "            else:\n",
    "                return return_\n",
    "\n",
    "        return wrapper\n",
    "\n",
    "\n",
    "strip_input_units = StripInputUnits.as_decorator"
   ]
  },
  {
   "cell_type": "code",
   "execution_count": null,
   "metadata": {},
   "outputs": [],
   "source": [
    "@strip_input_units(rv=u.km/u.s, time=u.day)\n",
    "def my_func1(rv, name, time=None, **kwargs):\n",
    "    if time is None:\n",
    "        time = 1.\n",
    "        \n",
    "    # py 2/3 compatible - have to multiply the output by expected output unit\n",
    "    return rv * time * u.km/u.s*u.day \n",
    "\n",
    "@strip_input_units(rv=u.km/u.s, time=u.day)\n",
    "def my_func2(rv, name, *args, time=None, **kwargs):\n",
    "    if time is None:\n",
    "        time = 1.\n",
    "    return rv * time * u.km/u.s*u.day \n",
    "\n",
    "@strip_input_units\n",
    "def my_func3(rv: u.km/u.s, name, time: u.day=None, **kwargs) -> u.km/u.s*u.day:\n",
    "    if time is None:\n",
    "        time = 1.\n",
    "    \n",
    "    # py3 only: output unit gets added by return annotation\n",
    "    return rv * time"
   ]
  },
  {
   "cell_type": "code",
   "execution_count": null,
   "metadata": {},
   "outputs": [],
   "source": [
    "rv_arr = np.array([12, 3.])\n",
    "t_arr = np.array([1, 2.])\n",
    "\n",
    "for func in [my_func1, my_func2, my_func3]:\n",
    "    assert quantity_allclose(func(rv_arr*u.km/u.s, 'bob', derp='asdf'), rv_arr*u.km/u.s*u.day)\n",
    "    assert quantity_allclose(func(rv_arr*u.km/u.s, name='bob', derp='asdf'), rv_arr*u.km/u.s*u.day)\n",
    "    assert quantity_allclose(func(rv=rv_arr*u.km/u.s, name='bob', time=t_arr*u.day), rv_arr*t_arr*u.km/u.s*u.day)\n",
    "    assert quantity_allclose(func(rv=rv_arr*u.kpc/u.Myr, name='bob', time=t_arr*u.year),\n",
    "                             (rv_arr*u.kpc/u.Myr * t_arr*u.year).to(u.km/u.s*u.day))"
   ]
  },
  {
   "cell_type": "code",
   "execution_count": null,
   "metadata": {},
   "outputs": [],
   "source": [
    "# expected failures:\n",
    "with pytest.raises(u.UnitsError):\n",
    "    my_func1(rv=[12,3]*u.kpc, name='bob', time=[1,2]*u.year)\n",
    "\n",
    "with pytest.raises(TypeError):\n",
    "    my_func1(rv=[12,3]*u.kpc/u.yr, name='bob', time=[1,2])"
   ]
  }
 ],
 "metadata": {
  "gist": {
   "data": {
    "description": "astropy/notebooks/Untitled6.ipynb",
    "public": false
   },
   "id": ""
  },
  "kernelspec": {
   "display_name": "Python [default]",
   "language": "python",
   "name": "python3"
  },
  "language_info": {
   "codemirror_mode": {
    "name": "ipython",
    "version": 3
   },
   "file_extension": ".py",
   "mimetype": "text/x-python",
   "name": "python",
   "nbconvert_exporter": "python",
   "pygments_lexer": "ipython3",
   "version": "3.6.4"
  }
 },
 "nbformat": 4,
 "nbformat_minor": 2
}