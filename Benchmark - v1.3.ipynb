{
 "cells": [
  {
   "cell_type": "code",
   "execution_count": null,
   "metadata": {},
   "outputs": [],
   "source": [
    "import astropy\n",
    "astropy.version.version"
   ]
  },
  {
   "cell_type": "code",
   "execution_count": null,
   "metadata": {
    "collapsed": true
   },
   "outputs": [],
   "source": [
    "import astropy.coordinates as coord\n",
    "import astropy.units as u\n",
    "import numpy as np"
   ]
  },
  {
   "cell_type": "code",
   "execution_count": null,
   "metadata": {},
   "outputs": [],
   "source": [
    "c = coord.ICRS(ra=15*u.deg, dec=-21*u.deg)\n",
    "%timeit c.transform_to(coord.Galactic)\n",
    "\n",
    "###\n",
    "\n",
    "ra, dec = np.random.uniform(0, 90, size=(2,10000)) * u.deg\n",
    "c = coord.ICRS(ra=ra, dec=dec)\n",
    "%timeit c.transform_to(coord.Galactic)\n",
    "\n",
    "###\n",
    "\n",
    "ra, dec = np.random.uniform(0, 90, size=(2,1000000)) * u.deg\n",
    "c = coord.ICRS(ra=ra, dec=dec)\n",
    "%timeit c.transform_to(coord.Galactic)"
   ]
  },
  {
   "cell_type": "code",
   "execution_count": null,
   "metadata": {},
   "outputs": [],
   "source": [
    "c = coord.SkyCoord(ra=15*u.deg, dec=-21*u.deg)\n",
    "%timeit c.transform_to(coord.Galactic)\n",
    "\n",
    "###\n",
    "\n",
    "ra, dec = np.random.uniform(0, 90, size=(2,10000)) * u.deg\n",
    "c = coord.SkyCoord(ra=ra, dec=dec)\n",
    "%timeit c.transform_to(coord.Galactic)\n",
    "\n",
    "###\n",
    "\n",
    "ra, dec = np.random.uniform(0, 90, size=(2,1000000)) * u.deg\n",
    "c = coord.SkyCoord(ra=ra, dec=dec)\n",
    "%timeit c.transform_to(coord.Galactic)"
   ]
  },
  {
   "cell_type": "code",
   "execution_count": null,
   "metadata": {
    "collapsed": true
   },
   "outputs": [],
   "source": []
  }
 ],
 "metadata": {
  "anaconda-cloud": {},
  "kernelspec": {
   "display_name": "Python [default]",
   "language": "python",
   "name": "python3"
  },
  "language_info": {
   "codemirror_mode": {
    "name": "ipython",
    "version": 3
   },
   "file_extension": ".py",
   "mimetype": "text/x-python",
   "name": "python",
   "nbconvert_exporter": "python",
   "pygments_lexer": "ipython3",
   "version": "3.5.2"
  }
 },
 "nbformat": 4,
 "nbformat_minor": 2
}