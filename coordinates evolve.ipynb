{
 "cells": [
  {
   "cell_type": "code",
   "execution_count": null,
   "metadata": {
    "collapsed": true
   },
   "outputs": [],
   "source": [
    "# Third-party\n",
    "from astropy.constants import c\n",
    "import astropy.coordinates as coord\n",
    "import astropy.units as u\n",
    "import matplotlib as mpl\n",
    "import matplotlib.pyplot as plt\n",
    "import numpy as np\n",
    "%matplotlib inline\n",
    "\n",
    "from astropy.tests.helper import quantity_allclose"
   ]
  },
  {
   "cell_type": "code",
   "execution_count": null,
   "metadata": {
    "collapsed": true
   },
   "outputs": [],
   "source": [
    "ra = np.random.uniform(100, 200, size=10000) * u.deg\n",
    "dec = np.random.uniform(-30, 30, size=ra.size) * u.deg\n",
    "distance = np.random.uniform(10, 100, size=ra.size) * u.pc"
   ]
  },
  {
   "cell_type": "code",
   "execution_count": null,
   "metadata": {},
   "outputs": [],
   "source": [
    "icrs = coord.ICRS(ra=ra, dec=dec, distance=distance)"
   ]
  },
  {
   "cell_type": "code",
   "execution_count": null,
   "metadata": {},
   "outputs": [],
   "source": [
    "%timeit icrs.distance.to(u.arcsecond, u.parallax()).value\n",
    "%timeit icrs.distance.to_value(u.arcsecond, u.parallax())"
   ]
  },
  {
   "cell_type": "code",
   "execution_count": null,
   "metadata": {
    "scrolled": true
   },
   "outputs": [],
   "source": [
    "1 / np.sqrt(1 - (100*u.pc/u.Myr / c)**2)"
   ]
  },
  {
   "cell_type": "code",
   "execution_count": null,
   "metadata": {},
   "outputs": [],
   "source": [
    "rep = coord.CartesianRepresentation(x=[-10., 10.]*u.pc, y=0*u.pc, z=0*u.pc)\n",
    "dif = coord.CartesianDifferential(d_x=0*u.pc/u.Myr, \n",
    "                                  d_y=[100.,100]*u.pc/u.Myr, \n",
    "                                  d_z=0*u.pc/u.Myr)\n",
    "rep = rep.with_differentials(dif)\n",
    "c1 = coord.SkyCoord(rep)\n",
    "c1 = c1[1]\n",
    "c1"
   ]
  },
  {
   "cell_type": "code",
   "execution_count": null,
   "metadata": {},
   "outputs": [],
   "source": [
    "c2 = c1.apply_space_motion(dt=10*u.yr)\n",
    "c2.velocity - c1.velocity"
   ]
  },
  {
   "cell_type": "code",
   "execution_count": null,
   "metadata": {},
   "outputs": [],
   "source": [
    "# assert quantity_allclose(c2.cartesian.xyz, [10., 1E-3, 0.]*u.pc, atol=1E-6*u.pc)\n",
    "# assert quantity_allclose(c2.cartesian.differentials['s'].d_xyz, dif.d_xyz, atol=1*u.cm/u.s)"
   ]
  },
  {
   "cell_type": "markdown",
   "metadata": {},
   "source": [
    "---"
   ]
  },
  {
   "cell_type": "markdown",
   "metadata": {},
   "source": [
    "### Directly call ERFA"
   ]
  },
  {
   "cell_type": "code",
   "execution_count": null,
   "metadata": {},
   "outputs": [],
   "source": [
    "from astropy._erfa import starpv, pvstar"
   ]
  },
  {
   "cell_type": "code",
   "execution_count": null,
   "metadata": {
    "collapsed": true
   },
   "outputs": [],
   "source": [
    "dt = (10*u.year).to(u.day).value"
   ]
  },
  {
   "cell_type": "code",
   "execution_count": null,
   "metadata": {},
   "outputs": [],
   "source": [
    "rep = coord.CartesianRepresentation(x=10.*u.pc, y=0*u.pc, z=0*u.pc)\n",
    "dif = coord.CartesianDifferential(d_x=0*u.pc/u.Myr, \n",
    "                                  d_y=100.*u.pc/u.Myr, \n",
    "                                  d_z=0*u.pc/u.Myr)\n",
    "rep = rep.with_differentials(dif)\n",
    "c1 = coord.SkyCoord(rep)\n",
    "c1.set_representation_cls(s=coord.SphericalDifferential)\n",
    "c1"
   ]
  },
  {
   "cell_type": "code",
   "execution_count": null,
   "metadata": {},
   "outputs": [],
   "source": [
    "pv1 = starpv(c1.ra.radian, c1.dec.radian, \n",
    "             c1.pm_ra.to(u.radian/u.yr), \n",
    "             c1.pm_dec.to(u.radian/u.yr), \n",
    "             c1.distance.parallax.to(u.arcsec).value, \n",
    "             c1.radial_velocity.to(u.km/u.s).value)\n",
    "(pv1[0]*u.au).to(u.pc), (pv1[1]*u.au/u.day).to(u.pc/u.Myr)"
   ]
  },
  {
   "cell_type": "code",
   "execution_count": null,
   "metadata": {},
   "outputs": [],
   "source": [
    "ERFA_DC = c.to(u.au/u.day).value\n",
    "tl1 = np.linalg.norm(pv1[0]) / ERFA_DC\n",
    "tl1"
   ]
  },
  {
   "cell_type": "code",
   "execution_count": null,
   "metadata": {},
   "outputs": [],
   "source": [
    "pv = pv1.copy()\n",
    "pv[0] = pv1[0] + pv1[1] * (dt + tl1)"
   ]
  },
  {
   "cell_type": "code",
   "execution_count": null,
   "metadata": {},
   "outputs": [],
   "source": [
    "r2 = pv[0].dot(pv[0])\n",
    "rdv = pv[0].dot(pv[1])\n",
    "v2 = pv[1].dot(pv[1])\n",
    "c2mv2 = ERFA_DC*ERFA_DC - v2\n",
    "tl2 = (-rdv + np.sqrt(rdv*rdv + c2mv2*r2)) / c2mv2\n",
    "tl2"
   ]
  },
  {
   "cell_type": "code",
   "execution_count": null,
   "metadata": {
    "collapsed": true
   },
   "outputs": [],
   "source": [
    "pv2 = pv1.copy()\n",
    "pv2[0] = pv2[0] + pv2[1] * (dt + (tl1 - tl2))"
   ]
  },
  {
   "cell_type": "code",
   "execution_count": null,
   "metadata": {},
   "outputs": [],
   "source": [
    "pv2"
   ]
  },
  {
   "cell_type": "code",
   "execution_count": null,
   "metadata": {},
   "outputs": [],
   "source": [
    "rep_ = coord.CartesianRepresentation(pv2[0]*u.au)\n",
    "dif_ = coord.CartesianDifferential(pv2[1]*u.au/u.day)\n",
    "rep_ = rep_.with_differentials(dif_)\n",
    "rep_ = rep_.represent_as(coord.SphericalRepresentation, \n",
    "                         coord.SphericalDifferential)\n",
    "star2_rep = [rep_.lon.radian, rep_.lat.radian, \n",
    "             rep_.differentials['s'].d_lon.to(u.radian/u.yr).value,\n",
    "             rep_.differentials['s'].d_lat.to(u.radian/u.yr).value,\n",
    "             rep_.distance.parallax.to(u.arcsec).value,\n",
    "             rep_.differentials['s'].d_distance.to(u.km/u.s).value]\n",
    "star2_rep = np.array(star2_rep)\n",
    "star2_rep"
   ]
  },
  {
   "cell_type": "code",
   "execution_count": null,
   "metadata": {},
   "outputs": [],
   "source": [
    "star2 = np.array(pvstar(pv2.copy()))\n",
    "print(star2)"
   ]
  },
  {
   "cell_type": "code",
   "execution_count": null,
   "metadata": {},
   "outputs": [],
   "source": [
    "star2 - star2_rep"
   ]
  },
  {
   "cell_type": "code",
   "execution_count": null,
   "metadata": {
    "collapsed": true
   },
   "outputs": [],
   "source": [
    "c2_2 = coord.ICRS(ra=star2[0]*u.rad, dec=star2[1]*u.rad,\n",
    "                  pm_ra=star2[2]*u.rad/u.yr, pm_dec=star2[3]*u.rad/u.yr,\n",
    "                  distance=coord.Distance(parallax=star2[4]*u.arcsec),\n",
    "                  radial_velocity=star2[5]*u.km/u.s,\n",
    "                  differential_cls=coord.SphericalDifferential)"
   ]
  },
  {
   "cell_type": "code",
   "execution_count": null,
   "metadata": {},
   "outputs": [],
   "source": [
    "c2_2.cartesian.differentials['s']"
   ]
  },
  {
   "cell_type": "code",
   "execution_count": null,
   "metadata": {
    "collapsed": true
   },
   "outputs": [],
   "source": []
  }
 ],
 "metadata": {
  "kernelspec": {
   "display_name": "Python [conda env:astropy-dev]",
   "language": "python",
   "name": "conda-env-astropy-dev-py"
  },
  "language_info": {
   "codemirror_mode": {
    "name": "ipython",
    "version": 3
   },
   "file_extension": ".py",
   "mimetype": "text/x-python",
   "name": "python",
   "nbconvert_exporter": "python",
   "pygments_lexer": "ipython3",
   "version": "3.5.4"
  }
 },
 "nbformat": 4,
 "nbformat_minor": 2
}