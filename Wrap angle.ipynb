{
 "cells": [
  {
   "cell_type": "code",
   "execution_count": null,
   "metadata": {},
   "outputs": [],
   "source": [
    "# Third-party\n",
    "import astropy.coordinates as coord\n",
    "import astropy.units as u\n",
    "import matplotlib as mpl\n",
    "import matplotlib.pyplot as plt\n",
    "import numpy as np\n",
    "%matplotlib inline\n",
    "\n",
    "import gala.coordinates as gc"
   ]
  },
  {
   "cell_type": "code",
   "execution_count": null,
   "metadata": {},
   "outputs": [],
   "source": [
    "class ICRS180(coord.ICRS):\n",
    "    def __init__(self, *args, **kwargs):\n",
    "        wrap = kwargs.pop('wrap_longitude', True)\n",
    "        super().__init__(*args, **kwargs)\n",
    "        if wrap and isinstance(self._data, (coord.UnitSphericalRepresentation,\n",
    "                                            coord.SphericalRepresentation)):\n",
    "            self._data.lon.wrap_angle = 180*u.deg\n",
    "            \n",
    "@coord.frame_transform_graph.transform(coord.StaticMatrixTransform, coord.ICRS, ICRS180)\n",
    "def icrs_to_180():\n",
    "    return np.eye(3)\n",
    "\n",
    "@coord.frame_transform_graph.transform(coord.StaticMatrixTransform, ICRS180, coord.ICRS)\n",
    "def icrs180_to_icrs():\n",
    "    return np.eye(3)"
   ]
  },
  {
   "cell_type": "code",
   "execution_count": null,
   "metadata": {},
   "outputs": [],
   "source": [
    "c = coord.Galactic(l=-50*u.deg, b=0*u.deg, \n",
    "                   pm_l_cosb=0*u.mas/u.yr, pm_b=1*u.mas/u.yr)\n",
    "c"
   ]
  },
  {
   "cell_type": "code",
   "execution_count": null,
   "metadata": {},
   "outputs": [],
   "source": [
    "c.l.wrap_angle = 180*u.deg\n",
    "c.l"
   ]
  },
  {
   "cell_type": "code",
   "execution_count": null,
   "metadata": {},
   "outputs": [],
   "source": [
    "c"
   ]
  },
  {
   "cell_type": "code",
   "execution_count": null,
   "metadata": {},
   "outputs": [],
   "source": []
  },
  {
   "cell_type": "code",
   "execution_count": null,
   "metadata": {},
   "outputs": [],
   "source": []
  },
  {
   "cell_type": "code",
   "execution_count": null,
   "metadata": {},
   "outputs": [],
   "source": [
    "c1 = ICRS180(ra=[-50, 50]*u.deg,\n",
    "             dec=[0, 0]*u.deg)\n",
    "c1.ra"
   ]
  },
  {
   "cell_type": "code",
   "execution_count": null,
   "metadata": {},
   "outputs": [],
   "source": [
    "c2 = ICRS180(ra=[-50, 50]*u.deg,\n",
    "             dec=[0, 0]*u.deg,\n",
    "             pm_ra_cosdec=[0, 0]*u.mas/u.yr,\n",
    "             pm_dec=[0, 0]*u.mas/u.yr)\n",
    "# c2.ra\n",
    "c2.ra.wrap_angle = 180*u.deg\n",
    "c2.ra"
   ]
  },
  {
   "cell_type": "code",
   "execution_count": null,
   "metadata": {},
   "outputs": [],
   "source": [
    "c1.data.lon"
   ]
  },
  {
   "cell_type": "code",
   "execution_count": null,
   "metadata": {},
   "outputs": [],
   "source": [
    "c2.data.lon"
   ]
  },
  {
   "cell_type": "code",
   "execution_count": null,
   "metadata": {},
   "outputs": [],
   "source": [
    "c1.data.represent_as(c1.representation_type)"
   ]
  },
  {
   "cell_type": "code",
   "execution_count": null,
   "metadata": {},
   "outputs": [],
   "source": [
    "c2.data.represent_as(c1.representation_type)"
   ]
  },
  {
   "cell_type": "code",
   "execution_count": null,
   "metadata": {},
   "outputs": [],
   "source": [
    "c1.represent_as(c1.representation_type)"
   ]
  },
  {
   "cell_type": "code",
   "execution_count": null,
   "metadata": {},
   "outputs": [],
   "source": [
    "c2.represent_as(c1.representation_type)"
   ]
  },
  {
   "cell_type": "code",
   "execution_count": null,
   "metadata": {},
   "outputs": [],
   "source": [
    "c1.representation_type.from_cartesian(c1.data.to_cartesian())"
   ]
  },
  {
   "cell_type": "code",
   "execution_count": null,
   "metadata": {},
   "outputs": [],
   "source": [
    "c2.data.represent_as(c1.representation_type, c1.differential_type)"
   ]
  },
  {
   "cell_type": "markdown",
   "metadata": {},
   "source": [
    "### AHA! It's happening because of the round-tripping to Cartesian"
   ]
  },
  {
   "cell_type": "code",
   "execution_count": null,
   "metadata": {},
   "outputs": [],
   "source": []
  }
 ],
 "metadata": {
  "kernelspec": {
   "display_name": "Python [default]",
   "language": "python",
   "name": "python3"
  },
  "language_info": {
   "codemirror_mode": {
    "name": "ipython",
    "version": 3
   },
   "file_extension": ".py",
   "mimetype": "text/x-python",
   "name": "python",
   "nbconvert_exporter": "python",
   "pygments_lexer": "ipython3",
   "version": "3.6.4"
  }
 },
 "nbformat": 4,
 "nbformat_minor": 2
}