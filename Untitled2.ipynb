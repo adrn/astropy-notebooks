{
 "cells": [
  {
   "cell_type": "code",
   "execution_count": null,
   "metadata": {},
   "outputs": [],
   "source": [
    "# Third-party\n",
    "import astropy.coordinates as coord\n",
    "import astropy.units as u\n",
    "import matplotlib as mpl\n",
    "import matplotlib.pyplot as plt\n",
    "import numpy as np\n",
    "plt.style.use('apw-notebook')\n",
    "%matplotlib inline\n",
    "\n",
    "from astropy.coordinates import (CartesianRepresentation, CartesianDifferential, \n",
    "                                 SphericalRepresentation, SphericalDifferential)"
   ]
  },
  {
   "cell_type": "code",
   "execution_count": null,
   "metadata": {},
   "outputs": [],
   "source": [
    "inradec = (45, 45)*u.deg\n",
    "expectedlatlon = (0, 0)*u.deg\n",
    "tolsep = .001*u.arcsec\n",
    "originradec = (45, 45)*u.deg"
   ]
  },
  {
   "cell_type": "code",
   "execution_count": null,
   "metadata": {},
   "outputs": [],
   "source": [
    "origin = coord.ICRS(*originradec)\n",
    "skyoffset_frame = coord.SkyOffsetFrame(origin=origin)\n",
    "\n",
    "skycoord = coord.SkyCoord(*inradec, frame=coord.ICRS)\n",
    "skycoord_inaf = skycoord.transform_to(skyoffset_frame)"
   ]
  },
  {
   "cell_type": "code",
   "execution_count": null,
   "metadata": {
    "collapsed": true
   },
   "outputs": [],
   "source": [
    "assert hasattr(skycoord_inaf, 'lon')\n",
    "assert hasattr(skycoord_inaf, 'lat')"
   ]
  },
  {
   "cell_type": "code",
   "execution_count": null,
   "metadata": {
    "collapsed": true
   },
   "outputs": [],
   "source": []
  },
  {
   "cell_type": "code",
   "execution_count": null,
   "metadata": {
    "collapsed": true
   },
   "outputs": [],
   "source": []
  },
  {
   "cell_type": "code",
   "execution_count": null,
   "metadata": {},
   "outputs": [],
   "source": [
    "xyz = np.arange(12).reshape(3, 4) * u.au\n",
    "d_xyz = np.arange(12).reshape(3, 4) * u.km/u.s\n",
    "rep = CartesianRepresentation(*xyz)\n",
    "dif = CartesianDifferential(*d_xyz)\n",
    "rep = rep.with_differentials(dif)"
   ]
  },
  {
   "cell_type": "code",
   "execution_count": null,
   "metadata": {},
   "outputs": [],
   "source": [
    "rep.represent_as([SphericalRepresentation, SphericalDifferential])"
   ]
  },
  {
   "cell_type": "code",
   "execution_count": null,
   "metadata": {},
   "outputs": [],
   "source": [
    "new_rep = rep[:2]"
   ]
  },
  {
   "cell_type": "code",
   "execution_count": null,
   "metadata": {},
   "outputs": [],
   "source": [
    "%timeit rep.without_differentials() + rep.without_differentials()"
   ]
  },
  {
   "cell_type": "code",
   "execution_count": null,
   "metadata": {},
   "outputs": [],
   "source": [
    "rep.without_differentials() + rep.without_differentials()"
   ]
  },
  {
   "cell_type": "code",
   "execution_count": null,
   "metadata": {
    "collapsed": true
   },
   "outputs": [],
   "source": []
  },
  {
   "cell_type": "code",
   "execution_count": null,
   "metadata": {
    "collapsed": true
   },
   "outputs": [],
   "source": []
  },
  {
   "cell_type": "code",
   "execution_count": null,
   "metadata": {
    "collapsed": true
   },
   "outputs": [],
   "source": [
    "lon = coord.Longitude(np.arange(0, 24, 4), u.hourangle)\n",
    "lat = coord.Latitude(np.arange(-90, 91, 30), u.deg)\n",
    "    \n",
    "s0 = coord.SphericalRepresentation(\n",
    "            lon[:, np.newaxis] * np.ones(lat.shape),\n",
    "            lat * np.ones(lon.shape)[:, np.newaxis],\n",
    "            np.ones(lon.shape + lat.shape) * u.kpc)"
   ]
  },
  {
   "cell_type": "code",
   "execution_count": null,
   "metadata": {
    "collapsed": true
   },
   "outputs": [],
   "source": [
    "s1 = coord.SphericalRepresentation(lon[:, np.newaxis], lat, 1. * u.kpc)"
   ]
  },
  {
   "cell_type": "code",
   "execution_count": null,
   "metadata": {
    "collapsed": true
   },
   "outputs": [],
   "source": []
  },
  {
   "cell_type": "code",
   "execution_count": null,
   "metadata": {
    "collapsed": true
   },
   "outputs": [],
   "source": []
  },
  {
   "cell_type": "code",
   "execution_count": null,
   "metadata": {
    "scrolled": true
   },
   "outputs": [],
   "source": [
    "c = coord.ICRS(ra=1*u.deg, dec=5*u.deg)\n",
    "c.representation_component_names"
   ]
  },
  {
   "cell_type": "code",
   "execution_count": null,
   "metadata": {
    "collapsed": true
   },
   "outputs": [],
   "source": [
    "c = coord.ICRS(x=1*u.au, y=0.1*u.au, z=-0.5*u.au, \n",
    "               representation=coord.CartesianRepresentation)"
   ]
  },
  {
   "cell_type": "code",
   "execution_count": null,
   "metadata": {},
   "outputs": [],
   "source": [
    "c.represent_as(coord.SphericalRepresentation)"
   ]
  },
  {
   "cell_type": "code",
   "execution_count": null,
   "metadata": {
    "collapsed": true
   },
   "outputs": [],
   "source": [
    "c = coord.ICRS(rho=1*u.kpc, phi=1*u.deg, z=0.1*u.pc,\n",
    "               representation=coord.CylindricalRepresentation)"
   ]
  },
  {
   "cell_type": "code",
   "execution_count": null,
   "metadata": {},
   "outputs": [],
   "source": [
    "coord.ICRS(c.represent_as(coord.SphericalRepresentation))"
   ]
  },
  {
   "cell_type": "code",
   "execution_count": null,
   "metadata": {
    "collapsed": true
   },
   "outputs": [],
   "source": [
    "rep = coord.SphericalRepresentation(lon=113*u.deg, lat=-0.1*u.deg, distance=15*u.pc)"
   ]
  },
  {
   "cell_type": "code",
   "execution_count": null,
   "metadata": {
    "collapsed": true
   },
   "outputs": [],
   "source": [
    "dif = coord.SphericalDifferential(d_lon=15*u.mas/u.yr, \n",
    "                                  d_lat=21*u.mas/u.yr, \n",
    "                                  d_distance=21*u.km/u.s)"
   ]
  },
  {
   "cell_type": "code",
   "execution_count": null,
   "metadata": {},
   "outputs": [],
   "source": [
    "from astropy.utils.misc import isiterable, check_broadcast, IncompatibleShapeError\n",
    "e = IncompatibleShapeError((1, 5), 0, (2, 7), 1)\n",
    "raise e"
   ]
  },
  {
   "cell_type": "code",
   "execution_count": null,
   "metadata": {
    "collapsed": true
   },
   "outputs": [],
   "source": [
    "# eteq wants to attach differentials to representations, publicly\n",
    "# So, how should we do that, given the above?\n",
    "rep.differentials = [dif] # ?? yuck"
   ]
  },
  {
   "cell_type": "code",
   "execution_count": null,
   "metadata": {},
   "outputs": [],
   "source": [
    "rep.represent_as(coord.CartesianRepresentation)"
   ]
  },
  {
   "cell_type": "code",
   "execution_count": null,
   "metadata": {},
   "outputs": [],
   "source": [
    "dif.represent_as(coord.CartesianDifferential, base=rep)"
   ]
  },
  {
   "cell_type": "markdown",
   "metadata": {},
   "source": [
    "---"
   ]
  },
  {
   "cell_type": "code",
   "execution_count": null,
   "metadata": {
    "collapsed": true
   },
   "outputs": [],
   "source": [
    "from astropy.coordinates.representation import DIFFERENTIAL_CLASSES, BaseDifferential\n",
    "from astropy.utils.compat.misc import override__dir__\n",
    "\n",
    "class RepresentationDifferential(object):\n",
    "\n",
    "    def __init__(self, representation, differentials):\n",
    "        \"\"\"\n",
    "\n",
    "        \"\"\"\n",
    "\n",
    "        self._representation = representation\n",
    "\n",
    "        if isinstance(differentials, BaseDifferential):\n",
    "            self._differentials = (differentials,)\n",
    "        else:\n",
    "            self._differentials = tuple(differentials)\n",
    "\n",
    "    def represent_as(self, representation, differential=None):\n",
    "        if differential is None:\n",
    "            differential = DIFFERENTIAL_CLASSES[representation.get_name()]\n",
    "\n",
    "        rep = self._rep.represent_as(representation)\n",
    "        dif = [diff.represent_as(differential, base=self._rep) for diff in self._diffs]\n",
    "\n",
    "        return self.__class__(rep, dif)\n",
    "\n",
    "    @property\n",
    "    def representation(self):\n",
    "        return self._representation\n",
    "\n",
    "    @property\n",
    "    def differentials(self):\n",
    "        return self._differentials\n",
    "\n",
    "    def __getattr__(self, attr):\n",
    "        \"\"\"\n",
    "        Allow access to attributes defined in ``self.representation.components``\n",
    "        and ``self.differential.components``\n",
    "        \"\"\"\n",
    "        if attr in self._representation.components:\n",
    "            return getattr(self._representation, attr)\n",
    "\n",
    "        elif attr in self._differentials[0].components:\n",
    "            return getattr(self._differentials[0], attr)\n",
    "            \n",
    "    def represent_as(self, new_representation, new_differential=None):\n",
    "        \"\"\"\n",
    "        TODO\n",
    "\n",
    "        \"\"\"\n",
    "        from astropy.coordinates.baseframe import _get_repr_cls, _get_diff_cls\n",
    "\n",
    "        new_representation = _get_repr_cls(new_representation)\n",
    "\n",
    "        if new_differential is None:\n",
    "            new_differential = DIFFERENTIAL_CLASSES[new_representation.get_name()]\n",
    "        new_differential = _get_diff_cls(new_differential)\n",
    "\n",
    "        rep = self._representation.represent_as(new_representation)\n",
    "        difs = [dif.represent_as(new_differential, base=self._representation)\n",
    "                for dif in self._differentials]\n",
    "\n",
    "        return self.__class__(rep, difs)\n",
    "    \n",
    "    @override__dir__\n",
    "    def __dir__(self):\n",
    "        \"\"\"\n",
    "        Override the builtin `dir` behavior to include representation\n",
    "        and differential components.\n",
    "        \"\"\"\n",
    "        return (self._representation.components +\n",
    "                self._differentials[0].components)"
   ]
  },
  {
   "cell_type": "code",
   "execution_count": null,
   "metadata": {
    "collapsed": true
   },
   "outputs": [],
   "source": [
    "c = RepresentationDifferential(rep, dif)"
   ]
  },
  {
   "cell_type": "code",
   "execution_count": null,
   "metadata": {},
   "outputs": [],
   "source": [
    "new_c = c.represent_as(coord.CartesianRepresentation)\n",
    "new_c.representation, new_c.differentials"
   ]
  },
  {
   "cell_type": "code",
   "execution_count": null,
   "metadata": {
    "collapsed": true
   },
   "outputs": [],
   "source": []
  },
  {
   "cell_type": "code",
   "execution_count": null,
   "metadata": {
    "collapsed": true
   },
   "outputs": [],
   "source": [
    "c = coord.CartesianRepresentation(np.random.random((3,128))*u.kpc)"
   ]
  },
  {
   "cell_type": "code",
   "execution_count": null,
   "metadata": {},
   "outputs": [],
   "source": [
    "r = np.random.random((3,128))\n",
    "d = coord.CartesianDifferential(r*u.m/u.s)\n",
    "d.represent_as(coord.SphericalRepresentation, base=c)"
   ]
  },
  {
   "cell_type": "code",
   "execution_count": null,
   "metadata": {},
   "outputs": [],
   "source": [
    "d = coord.CartesianDifferential(r*u.m/u.s**2)\n",
    "d.represent_as(coord.SphericalRepresentation, base=c)"
   ]
  },
  {
   "cell_type": "code",
   "execution_count": null,
   "metadata": {
    "collapsed": true
   },
   "outputs": [],
   "source": []
  },
  {
   "cell_type": "code",
   "execution_count": null,
   "metadata": {
    "collapsed": true
   },
   "outputs": [],
   "source": []
  },
  {
   "cell_type": "code",
   "execution_count": null,
   "metadata": {
    "collapsed": true
   },
   "outputs": [],
   "source": []
  }
 ],
 "metadata": {
  "anaconda-cloud": {},
  "kernelspec": {
   "display_name": "Python [conda env:astropy-dev]",
   "language": "python",
   "name": "conda-env-astropy-dev-py"
  },
  "language_info": {
   "codemirror_mode": {
    "name": "ipython",
    "version": 3
   },
   "file_extension": ".py",
   "mimetype": "text/x-python",
   "name": "python",
   "nbconvert_exporter": "python",
   "pygments_lexer": "ipython3",
   "version": "3.5.2"
  }
 },
 "nbformat": 4,
 "nbformat_minor": 2
}